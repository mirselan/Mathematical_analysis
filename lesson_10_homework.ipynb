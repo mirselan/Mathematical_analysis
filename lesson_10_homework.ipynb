{
  "nbformat": 4,
  "nbformat_minor": 0,
  "metadata": {
    "colab": {
      "name": "lesson_10_homework.ipynb",
      "provenance": []
    },
    "kernelspec": {
      "name": "python3",
      "display_name": "Python 3"
    },
    "language_info": {
      "name": "python"
    }
  },
  "cells": [
    {
      "cell_type": "markdown",
      "metadata": {
        "id": "1hC9fieVEQ3j"
      },
      "source": [
        "#“Интеграл”"
      ]
    },
    {
      "cell_type": "markdown",
      "metadata": {
        "id": "eX0Aj9MjEc4b"
      },
      "source": [
        "**1. Найти неопределенный интеграл:**\n",
        "\n",
        "$\\int(2x^2-2x-1+\\sin x-\\cos x+\\ln x+e^x)dx$\n",
        "\n",
        "$\\int\\sin xdx+\\int\\ln xdx-\\int\\cos xdx+\\int e^xdx+\\int 2x^2dx-\\int 2xdx-\\int 1dx=\\int\\sin xdx+\\int\\ln xdx-\\int\\cos xdx+\\int e^xdx+2\\int x^2dx-2\\int xdx-\\int 1dx=-\\cos x+x\\ln x-x-\\sin x+e^x+\\frac{2x^3}{3}-x^2-x=-\\cos x+x\\ln x-\\sin x+e^x+\\frac{2x^3}{3}-x^2-2x$\n",
        "\n",
        "**Ответ:**\n",
        "\n",
        "$\\int(2x^2-2x-1+\\sin x-\\cos x+\\ln x+e^x)dx=-\\cos x+x\\ln x-\\sin x+e^x+\\frac{2x^3}{3}-x^2-2x+C$\n",
        "\n"
      ]
    },
    {
      "cell_type": "markdown",
      "metadata": {
        "id": "LYKQo6EqEkVQ"
      },
      "source": [
        "**2. Найти неопределенный интеграл:**\n",
        "\n",
        "$\\int(2x+6xz^2-5x^2y-3\\ln z)dx$\n",
        "\n",
        "$\\int(-5yx^2+6z^2x+2x-3\\ln z)dx=-5y\\int x^2dx+(6z^2+2)\\int xdx-3\\ln z\\int 1dx=\\frac{-5yx^3}{3}+\\frac{(6z^2+2)x^2}{2}-3\\ln (z)x=\\frac{3x^2(6z^2+2)-10yx^3}{6}-3\\ln (z)x=\\frac{18z^2x^2+6x^2-10yx^3}{6}-3\\ln (z)x=\\frac{2x^2(9z^2+3-5yx)}{6}-3\\ln (z)x=\\frac{x^2(9z^2+3-5yx)-9\\ln(z)x}{3}=\\frac{x(x(9z^2+3-5yx)-9\\ln(z))}{3}$\n",
        "\n",
        "**Ответ:**\n",
        "\n",
        "$\\int(2x+6xz^2-5x^2y-3\\ln z)dx=\\frac{x(x(9z^2+3-5yx)-9\\ln(z))}{3}+C$"
      ]
    },
    {
      "cell_type": "markdown",
      "metadata": {
        "id": "OwgqSlqwEpN3"
      },
      "source": [
        "**3. Вычислить определенный интеграл:**\n",
        "\n",
        "$\\int\\limits^{\\pi}_03x^2\\sin(2x)dx=3\\int\\limits^{\\pi}_0x^2\\sin(2x)dx$\n",
        "\n",
        "Инегрирование по частям:\n",
        "\n",
        "$U=x^2 \\ \\ \\ \\ \\ \\ \\ \\ \\ \\ \\ \\ \\ \\ dU=2x$\n",
        "\n",
        "$dV=\\sin(2x) \\ \\ \\ \\ \\ V=-\\frac{\\cos(2x)}{2}$\n",
        "\n",
        "$=-\\frac{x^2\\cos(2x)}{2}-\\int -x\\cos(2x)dx$\n",
        "\n",
        "$\\int -x\\cos(2x)dx=-\\int x\\cos(2x)dx$\n",
        "\n",
        "Интегрирование по частям:\n",
        "\n",
        "$U=x \\ \\ \\ \\ \\ \\ \\ \\ \\ \\ \\ \\ \\ \\ dU=1$\n",
        "\n",
        "$dV=\\cos(2x) \\ \\ \\ \\ \\ V=\\frac{\\sin(2x)}{2}$\n",
        "\n",
        "$=\\frac{x\\sin(2x)}{2}-\\int \\frac{\\sin(2x)}{2}dx$\n",
        "\n",
        "$\\int \\frac{\\sin(2x)}{2}dx$\n",
        "\n",
        "Подстановка:\n",
        "\n",
        "$z=2x\\rightarrow\\frac{dz}{dx}=2\\rightarrow dx=\\frac{1}{2}dz$\n",
        "\n",
        "$=\\frac{1}{4}\\int\\sin(z)dz=-\\frac{\\cos(z)}{4}$\n",
        "\n",
        "Обрaтная замена $z=2x:$\n",
        "\n",
        "$=-\\frac{\\cos(2x)}{4}$\n",
        "\n",
        "Подставим уже вычесленные интегралы:\n",
        "\n",
        "$\\frac{x\\sin(2x)}{2}-\\int \\frac{\\sin(2x)}{2}dx=\\frac{x\\sin(2x)}{2}+ \\frac{\\cos(2x)}{4}$\n",
        "\n",
        "Подставим уже вычесленные интегралы:\n",
        "\n",
        "$-\\int x\\cos(2x)dx=-\\frac{x\\sin(2x)}{2}- \\frac{\\cos(2x)}{4}$\n",
        "\n",
        "Подставим уже вычесленные интегралы:\n",
        "\n",
        "$-\\frac{x^2\\cos(2x)}{2}-\\int -x\\cos(2x)dx=\\frac{x\\sin(2x)}{2}-\\frac{x^2\\cos(2x)}{2}+ \\frac{\\cos(2x)}{4}$\n",
        "\n",
        "Подставим уже вычесленные интегралы:\n",
        "\n",
        "$3\\int x^2\\sin(2x)dx=\\frac{3x\\sin(2x)}{2}-\\frac{3x^2\\cos(2x)}{2}+ \\frac{3\\cos(2x)}{4}+C$\n",
        "\n",
        "Вычислим определенный интеграл:\n",
        "\n",
        "$\\int\\limits^{\\pi}_03x^2\\sin(2x)dx=\\frac{3x\\sin(2x)}{2}-\\frac{3x^2\\cos(2x)}{2}+ \\frac{3\\cos(2x)}{4}\\Bigl|^{\\pi}_0=\\frac{3\\pi\\sin(2\\pi)}{2}-\\frac{3\\pi^2\\cos(2\\pi)}{2}+ \\frac{3\\cos(2\\pi)}{4}-\\frac{3}{4}=-\\frac{3\\pi^2}{2}+\\frac{3}{4}-\\frac{3}{4}=-\\frac{3\\pi^2}{2}$\n",
        "\n",
        "**Ответ:**\n",
        "\n",
        "$\\int\\limits^{\\pi}_03x^2\\sin(2x)dx=-\\frac{3\\pi^2}{2}$\n"
      ]
    },
    {
      "cell_type": "markdown",
      "metadata": {
        "id": "_aLJHmvhExrr"
      },
      "source": [
        "**4. Найти неопределенный интеграл:**\n",
        "\n",
        "$\\int\\frac{1}{\\sqrt{x+1}}dx$\n",
        "\n",
        "$z=x+1 \\ \\ \\ \\ \\ \\frac{dz}{dx}=1 \\ \\ \\ \\ \\Rightarrow dx=dz$\n",
        "\n",
        "$\\int\\frac{1}{\\sqrt{z}}dz=2\\sqrt{z}=2\\sqrt{x+1}$\n",
        "\n",
        "**Ответ:**\n",
        "\n",
        "$\\int\\frac{1}{\\sqrt{x+1}}dx=2\\sqrt{x+1}+C$\n",
        "\n"
      ]
    }
  ]
}