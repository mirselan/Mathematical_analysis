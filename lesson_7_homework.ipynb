{
  "nbformat": 4,
  "nbformat_minor": 0,
  "metadata": {
    "colab": {
      "name": "lesson_7_homework.ipynb",
      "provenance": []
    },
    "kernelspec": {
      "name": "python3",
      "display_name": "Python 3"
    },
    "language_info": {
      "name": "python"
    }
  },
  "cells": [
    {
      "cell_type": "markdown",
      "metadata": {
        "id": "HeMvJmCu0M4N"
      },
      "source": [
        "#№1. Найти длину 𝑥 и ширину 𝑦 прямоугольника при заданном периметре 𝑃=144 cм, при которых данный прямоугольник имеет наибольшую площадь 𝑆.\n",
        "\n",
        "Формула площади прямоугольника:\n",
        "\n",
        "$S=x\\cdot y$\n",
        "\n",
        "Формула периметра прямоугольника:\n",
        "\n",
        "$P=2(x+y)$\n",
        "\n",
        "Выражаем у через х:\n",
        "\n",
        "$y=\\frac{1}{2}P-x$\n",
        "\n",
        "Находим производную площади прямоугольника:\n",
        "\n",
        "\n",
        "$S^{\\prime}=(x\\cdot(\\frac{1}{2}P-x))^{\\prime}=x^{\\prime}\\cdot(\\frac{1}{2}P-x)+x\\cdot(\\frac{1}{2}P-x)^{\\prime}=1\\cdot(\\frac{1}{2}P-x)+(x\\cdot((\\frac{1}{2}P)^{\\prime}-x^{\\prime}))=\\frac{1}{2}P-x-x=\\frac{1}{2}P-2x$\n",
        "\n",
        "Приравниваем найденную производную к нулю:\n",
        "\n",
        "$\\frac{1}{2}P-2x=0$\n",
        "\n",
        "$\\frac{1}{2}P=2x$\n",
        "\n",
        "Находим х:\n",
        "\n",
        "$x=\\frac{1}{4}P$\n",
        "\n",
        "Находим у:\n",
        "\n",
        "$y=\\frac{1}{2}P-\\frac{1}{4}P=\\frac{1}{4}P$\n",
        "\n",
        "Проверка знака слева и справа соответственно с помощью подстановки:\n",
        "\n",
        "$S^{\\prime}(\\frac{1}{8}P)=\\frac{1}{2}P-2\\cdot\\frac{1}{8}P=\\frac{1}{4}P>0$\n",
        "\n",
        "$S^{\\prime}(\\frac{1}{2}P)=\\frac{1}{2}P-2\\cdot\\frac{1}{2}P=-\\frac{1}{2}P<0$\n",
        "\n",
        "Знак производной меняет свое значение с \"+\"(левее найденного нами значения х) на \"-\"(правее найденного нами значения х), значит найденная нами производная является наибольшей возможной площадью прямоугольника при заданном его периметре.\n",
        "\n",
        "Находим х:\n",
        "\n",
        "$x=\\frac{1}{4}P=\\frac{1}{4}\\cdot 144=36$\n",
        "\n",
        "Находим у:\n",
        "\n",
        "$y=\\frac{1}{2}P-\\frac{1}{4}P=\\frac{1}{4}P=\\frac{1}{4}\\cdot 144=36$\n",
        "\n",
        "**Ответ:**\n",
        "Длина прямоугольника 𝑥 и ширина 𝑦  при заданном периметре 𝑃=144 cм, при которых данный прямоугольник имеет наибольшую площадь 𝑆 равны 36 см и 36 см соответственно."
      ]
    },
    {
      "cell_type": "markdown",
      "metadata": {
        "id": "0wgZqvte0U6o"
      },
      "source": [
        "#№2. найти экстремумы функций (если они есть)\n",
        "\n",
        "\n"
      ]
    },
    {
      "cell_type": "markdown",
      "metadata": {
        "id": "Mu0E4aGt1fjB"
      },
      "source": [
        "**1)** \n",
        "\n",
        "$y = |2x|$\n",
        "\n",
        "Найдем производную функции:\n",
        "\n",
        "$y=2x$, если $2x>=0$ и $y=-2x$, если $2x<0$\n",
        "\n",
        "$y^{\\prime}=2$, если $2x>=0$\n",
        "\n",
        "$y^{\\prime}=-2$, если $2x<0$\n",
        "\n",
        "В обоих случаях производная не обращается в 0, т.е. не имееет критических точек и соответственно не имеет экстримумов.\n",
        "\n",
        "Построим график:"
      ]
    },
    {
      "cell_type": "code",
      "metadata": {
        "colab": {
          "base_uri": "https://localhost:8080/",
          "height": 378
        },
        "id": "ycPNbnDs1mkA",
        "outputId": "e91bdad7-7214-48e5-fff0-62dbac0d25a9"
      },
      "source": [
        "from matplotlib import pylab as plt\n",
        "import numpy as np\n",
        "%matplotlib inline\n",
        "\n",
        "plt.figure(figsize=(6,6))\n",
        "plt.axis([-4, 4, -4, 4])\n",
        "plt.grid()\n",
        "\n",
        "x=np.linspace(-4, 4, 200)\n",
        "y=2*x   #функция\n",
        "plt.plot(x,y, c='g')\n",
        "\n",
        "g=2    #производная\n",
        "plt.axhline(g, c='b')\n",
        "\n",
        "y=-2*x   #функция\n",
        "plt.plot(x,y, c='g')\n",
        "\n",
        "g=-2    #производная\n",
        "plt.axhline(g, c='b')\n",
        "\n",
        "\n",
        "plt.show()"
      ],
      "execution_count": 16,
      "outputs": [
        {
          "output_type": "display_data",
          "data": {
            "image/png": "[encoded data removed]",
            "text/plain": [
              "<Figure size 432x432 with 1 Axes>"
            ]
          },
          "metadata": {
            "needs_background": "light"
          }
        }
      ]
    },
    {
      "cell_type": "markdown",
      "metadata": {
        "id": "w_cz1jM11jxc"
      },
      "source": [
        "**2)** \n",
        "\n",
        "$y=x^3$\n",
        "\n",
        "Найдем производную:\n",
        "\n",
        "$y^{\\prime}=3x^2$\n",
        "\n",
        "Производная существует везде и обращается в 0 при х=0, это и есть критическая точка. Посмотрим на знаки в окресности 0:\n",
        "\n",
        "$f'(-1)=3\\cdot(-1)^2=3>0$\n",
        "\n",
        "$f'(1)=3\\cdot1^2=3>0$\n",
        "\n",
        "Следовательно, проходя через ноль производная функции знака не меняет, значит критическая точка не является экстримумом и данная функция не имеет экстримумов.\n",
        "\n",
        "Построим график:"
      ]
    },
    {
      "cell_type": "code",
      "metadata": {
        "colab": {
          "base_uri": "https://localhost:8080/",
          "height": 378
        },
        "id": "aSaEX91M1Hpp",
        "outputId": "91434407-de80-4ca1-e59a-aa6f7f322cf4"
      },
      "source": [
        "from matplotlib import pylab as plt\n",
        "import numpy as np\n",
        "%matplotlib inline\n",
        "\n",
        "plt.figure(figsize=(6,6))\n",
        "plt.axis([-4, 4, -4, 4])\n",
        "plt.grid()\n",
        "\n",
        "x=np.linspace(-4, 4, 200)\n",
        "y=x**3   #функция\n",
        "plt.plot(x,y, c='g')\n",
        "\n",
        "g=3*x**2    #производная\n",
        "plt.plot(x,g, c='b')\n",
        "\n",
        "plt.show()"
      ],
      "execution_count": 14,
      "outputs": [
        {
          "output_type": "display_data",
          "data": {
            "image/png": "[encoded data removed]",
            "text/plain": [
              "<Figure size 432x432 with 1 Axes>"
            ]
          },
          "metadata": {
            "needs_background": "light"
          }
        }
      ]
    },
    {
      "cell_type": "markdown",
      "metadata": {
        "id": "FnhIAQux1El-"
      },
      "source": [
        "**3)** \n",
        "\n",
        "$y = e^{(3x)}$ (или то же самое, что еxp(3x))\n",
        "\n",
        "Найдем производную:\n",
        "\n",
        "$y^{\\prime}=3xe^{(3x-1)}$\n",
        "\n",
        "Производная существует везде и обращается в 0 при х=0, это и есть критическая точка. Посмотрим на знаки в окресности 0:\n",
        "\n",
        "$f(-1)=3\\cdot(-1)e^{(3\\cdot(-1)-1)}=-3e^{(-4)}<0$\n",
        "\n",
        "$f(1)=3\\cdot(1)e^{(3\\cdot1-1)}=3e^2>0$\n",
        "\n",
        "Cледовательно, производная меняет знак проходя через критическую точку и значит это точка и есть экстримум.\n",
        "\n",
        "Построим график:\n"
      ]
    },
    {
      "cell_type": "code",
      "metadata": {
        "colab": {
          "base_uri": "https://localhost:8080/",
          "height": 378
        },
        "id": "Zh6kKNT7FNB0",
        "outputId": "a376f2b5-23d2-4d46-d95f-ec9501130977"
      },
      "source": [
        "from matplotlib import pylab as plt\n",
        "import numpy as np\n",
        "import math\n",
        "%matplotlib inline\n",
        "\n",
        "e = math.e\n",
        "\n",
        "plt.figure(figsize=(6,6))\n",
        "plt.axis([-4, 4, -4, 4])\n",
        "plt.grid()\n",
        "\n",
        "x=np.linspace(-4, 4, 200)\n",
        "y=e**3*x   #функция\n",
        "plt.plot(x,y, c='g')\n",
        "\n",
        "g=3*x*e**3*x-1    #производная\n",
        "plt.plot(x,g, c='b')\n",
        "\n",
        "plt.show()"
      ],
      "execution_count": 20,
      "outputs": [
        {
          "output_type": "display_data",
          "data": {
            "image/png": "[encoded data removed]",
            "text/plain": [
              "<Figure size 432x432 with 1 Axes>"
            ]
          },
          "metadata": {
            "needs_background": "light"
          }
        }
      ]
    },
    {
      "cell_type": "markdown",
      "metadata": {
        "id": "MWPy9eEq_Etm"
      },
      "source": [
        "**4)** \n",
        "\n",
        "$y=x^3-5x$\n",
        "\n",
        "Найдем производную:\n",
        "\n",
        "$y^{\\prime}=(x^3-5x)^{\\prime}=(x^3)^{\\prime}-(5x)^{\\prime}=3x^2-5$\n",
        "\n",
        "Производная существует везде поэтому приравняем производную к нулю и найдем критические точки:\n",
        "\n",
        "$3x^2-5=0$\n",
        "\n",
        "$3x^2=5$\n",
        "\n",
        "$x^2=\\frac{5}{3}$\n",
        "\n",
        "$x=\\sqrt{\\frac{5}{3}}=\\sqrt{1\\frac{2}{3}}$\n",
        "\n",
        "Посмотрим на знаки в окресности $\\sqrt{1\\frac{2}{3}}$:\n",
        "\n",
        "$f(-2)=3\\cdot(-2)^2-5=7>0$\n",
        "\n",
        "$f(2)=3\\cdot2^2-5=7>0$\n",
        "\n",
        "Следовательно, проходя через критическую точку производная функции знака не меняет, значит критическая точка не является экстримумом и данная функция не имеет экстримумов.\n",
        "\n",
        "Построим график:\n",
        "\n"
      ]
    },
    {
      "cell_type": "code",
      "metadata": {
        "colab": {
          "base_uri": "https://localhost:8080/",
          "height": 378
        },
        "id": "6I1nUabCOVgt",
        "outputId": "77826b1f-8cff-4d68-fb9e-d6d4c86a1a51"
      },
      "source": [
        "from matplotlib import pylab as plt\n",
        "import numpy as np\n",
        "%matplotlib inline\n",
        "\n",
        "plt.figure(figsize=(6,6))\n",
        "plt.axis([-20, 20, -20, 20])\n",
        "plt.grid()\n",
        "\n",
        "x=np.linspace(-4, 4, 200)\n",
        "y=x**3-5*x   #функция\n",
        "plt.plot(x,y, c='g')\n",
        "\n",
        "g=3*x**2-5    #производная\n",
        "plt.plot(x,g, c='b')\n",
        "\n",
        "plt.show()"
      ],
      "execution_count": 23,
      "outputs": [
        {
          "output_type": "display_data",
          "data": {
            "image/png": "[encoded data removed]",
            "text/plain": [
              "<Figure size 432x432 with 1 Axes>"
            ]
          },
          "metadata": {
            "needs_background": "light"
          }
        }
      ]
    }
  ]
}