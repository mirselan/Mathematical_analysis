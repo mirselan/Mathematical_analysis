{
  "nbformat": 4,
  "nbformat_minor": 0,
  "metadata": {
    "colab": {
      "name": "lesson_5_homework.ipynb",
      "provenance": []
    },
    "kernelspec": {
      "name": "python3",
      "display_name": "Python 3"
    },
    "language_info": {
      "name": "python"
    }
  },
  "cells": [
    {
      "cell_type": "markdown",
      "metadata": {
        "id": "K-3Rrdr8Cg3v"
      },
      "source": [
        "#Тема “Предел функции”"
      ]
    },
    {
      "cell_type": "markdown",
      "metadata": {
        "id": "G0AcDt55Cly7"
      },
      "source": [
        "**1. Найти предел:**"
      ]
    },
    {
      "cell_type": "markdown",
      "metadata": {
        "id": "Co1w8HyOCvqi"
      },
      "source": [
        "**a.**\n",
        "\n",
        "$$\\lim_{x\\to 0}\\frac{sin(2x)}{4x}=\\frac{2x}{4x}=\\frac{1}{2}$$"
      ]
    },
    {
      "cell_type": "markdown",
      "metadata": {
        "id": "h5b36SrMDniT"
      },
      "source": [
        "**b.**\n",
        "\n",
        "$$\\lim_{x\\to 0}\\frac{x}{sin(x)}=\\frac{x}{x}=1$$"
      ]
    },
    {
      "cell_type": "markdown",
      "metadata": {
        "id": "-teYPHjwHU6E"
      },
      "source": [
        "**c.**\n",
        "\n",
        "$$\\lim_{x\\to 0}\\frac{x}{arcsin(x)}=\\frac{x}{x}=1$$"
      ]
    },
    {
      "cell_type": "markdown",
      "metadata": {
        "id": "CCqBGri3HYCp"
      },
      "source": [
        "**d.**\n",
        "\n",
        "$$\\lim_{x\\to \\infty}\\Bigl(\\frac{4x+3}{4x-3}\\Bigr)^{6x}=\\Bigl(\\frac{4x-3+3+3}{4x-3}\\Bigr)^{6x}=\\Bigl(1+\\frac{6}{4x-3}\\Bigr)^{\\frac{4x-3}{6}\\frac{6}{4x-3}6x}=e^{\\lim_{x\\to \\infty}\\frac{6}{4x-3}6x}=e^{\\lim_{x\\to \\infty}\\frac{36x}{4x-3}}=e^{\\frac{36}{4}}=e^9$$"
      ]
    },
    {
      "cell_type": "markdown",
      "metadata": {
        "id": "nZ1EWv1l9Tfb"
      },
      "source": [
        "#Тема “Понятие о производной”"
      ]
    },
    {
      "cell_type": "markdown",
      "metadata": {
        "id": "zNwt45cAKWl7"
      },
      "source": [
        "**1. Найти производную выражения:**"
      ]
    },
    {
      "cell_type": "markdown",
      "metadata": {
        "id": "TWekBSpkKg_V"
      },
      "source": [
        "**a.**\n",
        "\n",
        "$(\\sin x \\cdot \\cos x)^{\\prime}=(\\sin x)^{\\prime}\\cdot\\cos x+\\sin x\\cdot(\\cos x)^{\\prime}=\\cos x\\cdot\\cos x+\\sin x\\cdot(-\\sin x)=\\cos^2x-\\sin^2x=\\cos2x$"
      ]
    },
    {
      "cell_type": "markdown",
      "metadata": {
        "id": "G3Gyl10BKp33"
      },
      "source": [
        "**b.**\n",
        "\n",
        "$(\\ln(2x+1)^3)^{\\prime}=(3\\ln(2x+1))^{\\prime}=\\frac{3}{2x+1}$"
      ]
    },
    {
      "cell_type": "markdown",
      "metadata": {
        "id": "NMH2-a3FKsJo"
      },
      "source": [
        "**d.**\n",
        "\n",
        "$\\Bigl(\\frac{x^4}{\\ln(x)}\\Bigr)^{\\prime}=\\frac{(x^4)^{\\prime}\\cdot\\ln(x)-x^4\\cdot(\\ln(x))^{\\prime}}{ln^2(x)}=\\frac{x^4\\ln(x)\\cdot\\ln(x)-x^4\\cdot\\frac{1}{x}}{ln^2(x)}=\\frac{x^4\\ln^2(x)-x^3}{ln^2(x)}$"
      ]
    }
  ]
}