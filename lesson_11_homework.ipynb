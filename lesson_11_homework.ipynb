{
  "nbformat": 4,
  "nbformat_minor": 0,
  "metadata": {
    "colab": {
      "name": "lesson_11_homework.ipynb",
      "provenance": [],
      "collapsed_sections": []
    },
    "kernelspec": {
      "name": "python3",
      "display_name": "Python 3"
    },
    "language_info": {
      "name": "python"
    }
  },
  "cells": [
    {
      "cell_type": "markdown",
      "metadata": {
        "id": "_I7ELO6BOJl2"
      },
      "source": [
        "#“Ряды”"
      ]
    },
    {
      "cell_type": "markdown",
      "metadata": {
        "id": "D0v8OnK0OOnJ"
      },
      "source": [
        "**1. Исследовать ряд на сходимость, используя признак д’Аламбера:**\n",
        "\n",
        "$$\\sum\\limits^\\infty_{n=1}\\frac{n^n}{(n!)^2}$$\n",
        "\n",
        "Найдем предел:\n",
        "\n",
        "$$\\lim_{n\\to +\\infty}\\frac{a_{n+1}}{a_{n}}=\\lim_{n\\to +\\infty}\\frac{(n+1)^{n+1}}{(n!+1)^2}:\\frac{n^n}{(n!)^2}=\\lim_{n\\to +\\infty}\\frac{(n!)^2\\cdot(n+1)^{n+1}}{n^n(n!+1)^2}=\\lim_{n\\to +\\infty}\\frac{(n!)^2\\cdot(n+1)^n\\cdot(n+1)}{n^n((n!)^2+2n!+1)}=+\\infty$$\n",
        "\n",
        "т.к. предел равен $+\\infty>1$, то ряд расходится."
      ]
    },
    {
      "cell_type": "markdown",
      "metadata": {
        "id": "edli1mYsOXJv"
      },
      "source": [
        "**2. Исследовать ряд на сходимость, используя радикальный признак Коши:**\n",
        "\n",
        "$$\\sum\\limits^\\infty_{n=1}\\frac{n}{2^n}$$\n",
        "\n",
        "Найдем предел:\n",
        "\n",
        "$$\\lim_{n\\to +\\infty}\\sqrt[n]{a_{n}}=\\lim_{n\\to +\\infty}\\sqrt[n]{\\frac{n}{2^n}}=\\lim_{n\\to +\\infty}\\frac{\\sqrt[n]{n}}{2}=\\frac{1}{2}$$\n",
        "\n",
        "т.к. предел равен $\\frac{1}{2}<1$, то ряд сходится."
      ]
    },
    {
      "cell_type": "markdown",
      "metadata": {
        "id": "NfDMPprEOcwz"
      },
      "source": [
        "**3. Исследовать ряд на сходимость, используя признак Лейбница:**\n",
        "\n",
        "$$\\sum\\limits^\\infty_{n=1}\\frac{-1^n}{n+\\ln n}$$\n",
        "\n",
        "Этот знакопеременный ряд сходится. Т.к. главный член монотонно стремится к $0$ по модулю.\n",
        "\n"
      ]
    },
    {
      "cell_type": "markdown",
      "metadata": {
        "id": "2IF5-_J7Ohwq"
      },
      "source": [
        "**4. Исследовать ряд на сходимость, используя признак Раабе:**\n",
        "\n",
        "$$\\sum\\limits^\\infty_{n=1}\\frac{3^n}{2^n}$$\n",
        "\n",
        "Найдем предел:\n",
        "\n",
        " $$\\lim_{n\\to +\\infty}n\\Bigr(\\frac{a_{n}}{a_{n+1}}-1\\Bigl)=\\lim_{n\\to +\\infty}n\\Bigr(\\frac{3^n}{2^n}:\\frac{3^{n+1}}{2^{n+1}}-1\\Bigl)=\\lim_{n\\to +\\infty}n\\Bigr(\\frac{2}{3}-1\\Bigl)=-\\infty$$\n",
        "\n",
        " т.к. предел равен $-\\infty<1$, то ряд расходится."
      ]
    },
    {
      "cell_type": "markdown",
      "metadata": {
        "id": "kWKQqmz3OqNy"
      },
      "source": [
        "**5. Разложить функцию по Тейлору в единице:**\n",
        "\n",
        "$$f(x)=\\ln(16x^2)$$\n",
        "\n",
        "Разложим функцию $f(x)=\\ln(16x^2)$ в окрестности точки $a=1$.\n",
        "\n",
        " $$\\ln(16x^2)=\\frac{\\ln(16^2)}{0!}(x-1)^0+\\frac{2}{1!}(x-1)^1-\\frac{2}{x^2\\cdot2!}(x-1)^2+\\frac{4}{x^3\\cdot3!}(x-1)^3-\\frac{12}{x^4\\cdot4!}(x-1)^4+\\frac{48}{x^5\\cdot5!}(x-1)^5-...=$$\n",
        "\n",
        "$$=\\sum\\limits_{n=0}^{+\\infty}\\frac{f^{(n)}(a)}{n!}(x-a)^n$$"
      ]
    }
  ]
}