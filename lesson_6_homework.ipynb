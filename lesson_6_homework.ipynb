{
  "nbformat": 4,
  "nbformat_minor": 0,
  "metadata": {
    "colab": {
      "name": "lesson_6_homework.ipynb",
      "provenance": []
    },
    "kernelspec": {
      "name": "python3",
      "display_name": "Python 3"
    },
    "language_info": {
      "name": "python"
    }
  },
  "cells": [
    {
      "cell_type": "markdown",
      "metadata": {
        "id": "z1CWNigBn4ct"
      },
      "source": [
        "#Тема 6 “Понятие о производной”"
      ]
    },
    {
      "cell_type": "markdown",
      "metadata": {
        "id": "ZEOvYGcRn9pY"
      },
      "source": [
        "**1. Найти производную выражения:**\n",
        "\n",
        "$(\\sqrt{\\sin^2(\\ln(x^3))})^{\\prime}=(\\sin(\\ln(x^3)))^{\\prime}=\\cos(\\ln(x^3))$"
      ]
    },
    {
      "cell_type": "markdown",
      "metadata": {
        "id": "qKIf_1pDo1T6"
      },
      "source": [
        "**2. Найти выражение производной функции и ее значение в точке:**\n",
        "\n",
        "$f(x)=\\cos(x^2+3x),x_0=\\sqrt{\\pi}$\n",
        "\n",
        "а) находим производную функции:\n",
        "\n",
        "$f^{\\prime}(x)=(\\cos(x^2+3x))^{\\prime}=-\\sin(x^2+3x)$\n",
        "\n",
        "б) вычисляем значение производной в точке:\n",
        "\n",
        "$f^{\\prime}(\\sqrt{\\pi})=-\\sin(\\pi+3\\pi)=-\\sin4\\pi= \\sin-4\\pi=0$"
      ]
    },
    {
      "cell_type": "markdown",
      "metadata": {
        "id": "D41kmK7GpVtJ"
      },
      "source": [
        "**4. Найти угол наклона касательной к графику функции в точке:**\n",
        "\n",
        "$f(x)=\\sqrt{3x}\\cdot\\ln x,x_0=1$\n",
        "\n",
        "а) найдем производную функции $f(x)$\n",
        "\n",
        "$f^{\\prime}(x)=(\\sqrt{3x}\\cdot\\ln x)^{\\prime}=(\\sqrt{3x})^{\\prime}\\cdot\\ln x+\\sqrt{3x}\\cdot(\\ln x)^{\\prime}=(3x^{\\frac{1}{2}})^{\\prime}\\cdot\\ln x+\\sqrt{3x}\\cdot(\\ln x)^{\\prime}=\\frac{3}{2}x^{-\\frac{1}{2}}\\cdot\\ln x+\\sqrt{3x}\\cdot\\frac{1}{x}=\\frac{1}{\\frac{3}{2}x^{\\frac{1}{2}}}\\cdot\\ln x+3x^{\\frac{1}{2}}\\cdot\\frac{1}{x}$\n",
        "\n",
        "б) вычислим значение производной функции $f(x)$ в точке $x_0$\n",
        "\n",
        "$f^{\\prime}(1)=\\frac{1}{\\frac{3}{2}^{\\frac{1}{2}}}\\cdot\\ln(1)+3^{\\frac{1}{2}}\\cdot\\frac{1}{1}=3^{\\frac{1}{2}}=\\sqrt{3}$\n",
        "\n",
        "в) так как геометрический смысл производной в том, что это тангенс угла наклона касательной к графику функции $y=f(x)$ в точке $x_0$, мы получили тангенс искомого угла. Тангенсу равному $\\sqrt{3}$ соответствует угол в $60^0.$\n",
        "\n",
        "**Ответ:**\n",
        "\n",
        "Угол наклона касательной к графику функции в заданной точке равен 60 градусов.\n",
        "\n",
        "\n",
        "\n"
      ]
    }
  ]
}