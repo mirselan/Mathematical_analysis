{
  "nbformat": 4,
  "nbformat_minor": 0,
  "metadata": {
    "colab": {
      "name": "lesson_4_homework.ipynb",
      "provenance": []
    },
    "kernelspec": {
      "name": "python3",
      "display_name": "Python 3"
    },
    "language_info": {
      "name": "python"
    }
  },
  "cells": [
    {
      "cell_type": "markdown",
      "metadata": {
        "id": "SlPfXQg9Y_j_"
      },
      "source": [
        "#1. Предложить пример функции, не имеющей предела в нуле и в бесконечностях.\n",
        "\n",
        "$$\\lim_{x\\to 0} \\frac{x^2-1}{2x^2-x-1}=\\Bigl(\\frac{-1}{-1}\\Bigr)=1$$\n",
        "\n",
        "Согласно правилу вычисления пределов, если в числителе и знаменателе степенные функции и если максимальная степень числителя равна максимальной степени знаменателя, тот предел равен отношению коэффициетнов при этих степенях. Значит такая функция не имеет предела в нуле и бесконечностях."
      ]
    },
    {
      "cell_type": "markdown",
      "metadata": {
        "id": "wKYkBM-PZMBP"
      },
      "source": [
        "#2. Привести пример функции, не имеющей предела в точке, но определенной в ней.\n",
        "\n",
        "\n",
        "$y=\\frac{1}{x}$ при $x\\to 0$"
      ]
    },
    {
      "cell_type": "markdown",
      "metadata": {
        "id": "_EzQ5KluET2e"
      },
      "source": [
        "#3. Исследовать функцию $f(x)=x^3 -x^2$  по плану:"
      ]
    },
    {
      "cell_type": "code",
      "metadata": {
        "colab": {
          "base_uri": "https://localhost:8080/",
          "height": 320
        },
        "id": "02rUT9TzNzDc",
        "outputId": "7cf6bfb3-c238-46b9-9d44-a1c391ea63d2"
      },
      "source": [
        "from matplotlib import pylab as plt\n",
        "import numpy as np\n",
        "%matplotlib inline\n",
        "\n",
        "plt.figure(figsize=(5,5))\n",
        "plt.axis([-5, 5, -5, 5])\n",
        "\n",
        "x=np.linspace(-5, 5, 200)\n",
        "y=x**3-x**2\n",
        "plt.plot(x,y)\n",
        "plt.show()"
      ],
      "execution_count": 11,
      "outputs": [
        {
          "output_type": "display_data",
          "data": {
            "image/png": "[encoded data removed]",
            "text/plain": [
              "<Figure size 360x360 with 1 Axes>"
            ]
          },
          "metadata": {
            "needs_background": "light"
          }
        }
      ]
    },
    {
      "cell_type": "markdown",
      "metadata": {
        "id": "rlB_6Uf3Ebk6"
      },
      "source": [
        "**a. Область задания и область значений.**\n",
        "\n",
        "Область определения: $(-\\infty, \\infty),\\{x|x\\in \\mathbb{R}\\}$\n",
        "\n",
        "Область значения: $(-\\infty, \\infty),\\{y|y\\in\\mathbb{R}\\}$\n"
      ]
    },
    {
      "cell_type": "markdown",
      "metadata": {
        "id": "ctaYv_XHEkE4"
      },
      "source": [
        "**b. Нули функции и их кратность.**\n",
        "\n",
        "$f(x)=x^3 -x^2$\n",
        "\n",
        "$x^3 -x^2=0$\n",
        "\n",
        "$x^2(x-1)=0$\n",
        "\n",
        "$x=0$ $x=1$\n",
        "\n",
        "$x=0$ корень кратности 2\n",
        "\n",
        "$x=1$ корень кратности 1"
      ]
    },
    {
      "cell_type": "markdown",
      "metadata": {
        "id": "K8oUAt1rEwEU"
      },
      "source": [
        "**c. Отрезки знакопостоянства.**\n",
        "\n",
        "$f(x)=x^3 -x^2$\n",
        "\n",
        "$f(x)=x^2(x-1)$\n",
        "\n",
        "---------- + -----------0-------- - ------1----------- + ------------->\n",
        "\n",
        "$f(x)>0\\in (-\\infty;0)\\cup(1;+\\infty)$\n",
        "\n",
        "$f(x)<0\\in(0;1)$"
      ]
    },
    {
      "cell_type": "markdown",
      "metadata": {
        "id": "H1dgS06mE0mK"
      },
      "source": [
        "**e. Четность функции.**\n",
        "\n",
        "$f(-x)=-x^3 +x^2$\n",
        "\n",
        "Получаем $f(-x)=-f(x)$, значит, функция является нечетной, т.е. симметричной началу координат."
      ]
    },
    {
      "cell_type": "markdown",
      "metadata": {
        "id": "EPybqBANE6qG"
      },
      "source": [
        "**f. Ограниченность.**\n",
        "\n",
        "Исходя из того, что область определения данной функции: $(-\\infty, \\infty),\\{x|x\\in \\mathbb{R}\\}$, а область значения: $(-\\infty, \\infty),\\{y|y\\in\\mathbb{R}\\}$ делаем вывод, что функция не ограничена."
      ]
    },
    {
      "cell_type": "markdown",
      "metadata": {
        "id": "bffMMEOcE-ov"
      },
      "source": [
        "**g. Периодичность.**\n",
        "\n",
        "Функция периодична если выполняется условие, что $f(x+T)=f(x)$.\n",
        "\n",
        "т.е. $(x+T)^3 -(x+T)^2=x^3 -x^2$, очевидно, что в нашем случае условие не выполняется, значит функция не периодична."
      ]
    },
    {
      "cell_type": "markdown",
      "metadata": {
        "id": "M8ryaK19FGbh"
      },
      "source": [
        "#2. Найти предел:\n",
        "\n",
        "$$\\lim_{x\\to 0} \\frac{3x^3-2x^2}{4x^2}=\\frac{x^2(3x-2)}{4x^2}=\\frac{3x-2}{4}=\\frac{-2}{4}=-\\frac{2}{4}$$"
      ]
    }
  ]
}