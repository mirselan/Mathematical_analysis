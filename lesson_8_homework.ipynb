{
  "nbformat": 4,
  "nbformat_minor": 0,
  "metadata": {
    "colab": {
      "name": "lesson_8_homework.ipynb",
      "provenance": []
    },
    "kernelspec": {
      "name": "python3",
      "display_name": "Python 3"
    },
    "language_info": {
      "name": "python"
    }
  },
  "cells": [
    {
      "cell_type": "markdown",
      "metadata": {
        "id": "o5wNJHp1OCyb"
      },
      "source": [
        "#Домашнее задание по теме «Производные функций нескольких переменных».\n"
      ]
    },
    {
      "cell_type": "markdown",
      "metadata": {
        "id": "N3a0fY-OOINc"
      },
      "source": [
        "**1.  Найти область определения функции.**\n",
        "\n",
        "$$z=\\sqrt{1-x^3}+\\ln(y^2-1)$$\n",
        "\n",
        "\n",
        "Функция с квадратным корнем $\\sqrt{1-x^3}$ определена только при тех значениях «х», когда подкоренное выражение неотрицательно: $1-x^3>=0$\n",
        "\n",
        "$1-x^3>=0$\n",
        "\n",
        "$1>=x^3$\n",
        "\n",
        "$x<=1$\n",
        "\n",
        "Данная нам функция также содержит логарифм $\\ln(y^2-1)$, т.е. в её область определения должны входить только те значения «у», которые удовлетворяют неравенству $y^2-1>0$\n",
        "\n",
        "$y^2-1>0$\n",
        "\n",
        "$y^2>1$\n",
        "\n",
        "$y>1$\n",
        "\n",
        "**Ответ:**\n",
        "\n",
        "Область определения данной функции по оси х $\\{x|x<=1\\}$\n",
        "\n",
        "Область определения данной функции по оси y $\\{y|y>1\\}$"
      ]
    },
    {
      "cell_type": "markdown",
      "metadata": {
        "id": "tQHgm0PwOSoC"
      },
      "source": [
        "**2. Найти производные 1-го порядка функции.**\n",
        "\n",
        "$$z=\\Bigl(1+\\frac{\\ln x}{\\ln y}\\Bigr)^3$$\n",
        "\n",
        "$z^{\\prime}_x=3\\Bigl(1+\\frac{\\ln x}{\\ln y}\\Bigr)^2\\cdot\\Bigl(\\frac{1}{x}\\cdot\\frac{1}{\\ln y}\\Bigr)=\\frac{3}{x\\ln y}\\Bigl(1+\\frac{\\ln x}{\\ln y}\\Bigr)^2=\\frac{3}{x\\ln y}\\Bigl(1+2\\frac{\\ln x}{\\ln y}+\\frac{\\ln^2 x}{\\ln^2 y}\\Bigr)=\\frac{3}{x\\ln y}\\Bigl(1+\\frac{2\\ln x\\ln y+\\ln^2 x}{\\ln^2 y}\\Bigr)=\\frac{3}{x\\ln y}\\Bigl(\\frac{\\ln^2 y+2\\ln x\\ln y+\\ln^2 x}{\\ln^2 y}\\Bigr)=\\frac{3}{x\\ln y}\\Bigl(\\frac{(\\ln y+\\ln x)^2}{\\ln^2 y}\\Bigr)=\\frac{3(\\ln y+\\ln x)^2}{x\\ln^3 y}$\n",
        "\n",
        "\n",
        "$z^{\\prime}_y=3\\Bigl(1+\\frac{\\ln x}{\\ln y}\\Bigr)^2\\cdot(\\ln x\\cdot y)=3y\\ln x\\Bigl(1+\\frac{\\ln x}{\\ln y}\\Bigr)^2=3y\\ln x\\Bigl(1+2\\frac{\\ln x}{\\ln y}+\\frac{\\ln^2 x}{\\ln^2 y}\\Bigr)=3y\\ln x\\Bigl(1+\\frac{2\\ln x\\ln y+\\ln^2x}{\\ln^2 y}\\Bigr)=3y\\ln x+\\frac{3y\\ln x(2\\ln x\\ln y+\\ln^2x)}{\\ln^2 y}=\\frac{3y\\ln x\\ln^2y+3y\\ln x(2\\ln x\\ln y+\\ln^2x)}{\\ln^2 y}=\\frac{3y\\ln x\\ln^2y+6y\\ln^2 x\\ln y+3y\\ln^3x}{\\ln^2 y}=\\frac{3y\\ln x(\\ln^2y+2\\ln x\\ln y+\\ln^2x)}{\\ln^2 y}=\\frac{3y\\ln x(\\ln y+\\ln x)^2}{\\ln^2 y}$"
      ]
    },
    {
      "cell_type": "markdown",
      "metadata": {
        "id": "ydY7C1hGOZKH"
      },
      "source": [
        "**3. Найти полный дифференциал функции в точке (1;1).**\n",
        "\n",
        "$$z=\\sqrt{2xy+\\cos\\frac{x}{y}}$$\n",
        "\n",
        "$dz=z^{\\prime}(x)dx+z^{\\prime}(y)dy$\n",
        "\n",
        "$dz=\\Bigl(\\frac{1}{2(2xy+\\cos\\frac{x}{y})^{\\frac{1}{2}}}\\cdot2y-\\frac{\\sin\\frac{x}{y}}{y}\\Bigr)dx+\\Bigl(\\frac{1}{2(2xy+\\cos\\frac{x}{y})^{\\frac{1}{2}}}\\cdot2x+\\frac{x\\sin\\frac{x}{y}}{y^2}\\Bigr)dy=\\Bigl(\\frac{1}{\\sqrt{4xy+2\\cos\\frac{x}{y}}}\\cdot2y-\\frac{\\sin\\frac{x}{y}}{y}\\Bigr)dx+\\Bigl(\\frac{1}{\\sqrt{4xy+2\\cos\\frac{x}{y}}}\\cdot2x+\\frac{x\\sin\\frac{x}{y}}{y^2}\\Bigr)dy$\n",
        "\n",
        "$dz(1;1)=dx+dy$"
      ]
    },
    {
      "cell_type": "markdown",
      "metadata": {
        "id": "Qw9nHomiOdZ6"
      },
      "source": [
        "**4.  Исследовать на экстремум функцию**\n",
        "\n",
        "$$z=x^2+xy+y^2-6x-9y$$\n",
        "\n",
        "Необходимые условия:\n",
        "\n",
        "$$z=x^2+xy+y^2-6x-9y$$\n",
        "\n",
        "$$\\begin{cases}\n",
        "   \\frac{\\vartheta z}{\\vartheta x}=2x+y-6=0 \\\\\n",
        "   \\frac{\\vartheta z}{\\vartheta y}=x+2y-9=0 \n",
        " \\end{cases}$$\n"
      ]
    }
  ]
}